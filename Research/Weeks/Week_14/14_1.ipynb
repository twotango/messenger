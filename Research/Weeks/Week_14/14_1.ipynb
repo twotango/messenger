{
 "cells": [
  {
   "cell_type": "code",
   "execution_count": 2,
   "metadata": {},
   "outputs": [],
   "source": [
    "import pandas as pd\n",
    "import numpy as np"
   ]
  },
  {
   "cell_type": "code",
   "execution_count": 3,
   "metadata": {},
   "outputs": [],
   "source": [
    "glasses = pd.read_csv('/Users/emilkoch/Desktop/2Tango/Data Files/Dataset_2_glasses/glasses.csv')"
   ]
  },
  {
   "cell_type": "code",
   "execution_count": 4,
   "metadata": {},
   "outputs": [],
   "source": [
    "glasses['accel_x'] = glasses['ACC_X']\n",
    "glasses['accel_y'] = glasses['ACC_Y']\n",
    "glasses['accel_z'] = glasses['ACC_Z']\n",
    "glasses['gyro_x'] = glasses['GYRO_X']\n",
    "glasses['gyro_y'] = glasses['GYRO_Y']\n",
    "glasses['gyro_z'] = glasses['GYRO_Z']"
   ]
  },
  {
   "cell_type": "code",
   "execution_count": 5,
   "metadata": {},
   "outputs": [],
   "source": [
    "glasses = glasses.drop(columns= ['NUM', 'EOG_L', 'EOG_R', 'EOG_H', 'EOG_V', 'ACC_Z', 'ACC_X', 'ACC_Y', 'GYRO_X', 'GYRO_Y', 'GYRO_Z'])"
   ]
  },
  {
   "cell_type": "code",
   "execution_count": 6,
   "metadata": {},
   "outputs": [],
   "source": [
    "import pandas as pd\n",
    "import numpy as np\n",
    "from sklearn.preprocessing import StandardScaler\n",
    "\n",
    "scaler = StandardScaler()\n",
    "\n",
    "# Exclude the 'timestamp' column from standardization\n",
    "cols_to_scale = [col for col in glasses.columns if col != 'timestamp']\n",
    "glasses[cols_to_scale] = scaler.fit_transform(glasses[cols_to_scale])\n",
    "\n",
    "def complementary_filter(glasses, alpha):\n",
    "    dt = 0.02  # Assuming a sampling rate of 50 Hz (1/50 = 0.02)\n",
    "    gyro = glasses[['gyro_x', 'gyro_y', 'gyro_z']].values  # Extract gyro data\n",
    "    acc = glasses[['accel_x', 'accel_y', 'accel_z']].values  # Extract accelerometer data\n",
    "\n",
    "    roll_acc = np.arctan2(acc[:, 1], acc[:, 2])  # Calculate roll from accelerometer data\n",
    "    pitch_acc = np.arctan2(-acc[:, 0], np.sqrt(acc[:, 1] ** 2 + acc[:, 2] ** 2))  # Calculate pitch from accelerometer data\n",
    "\n",
    "    roll = np.zeros_like(roll_acc)\n",
    "    pitch = np.zeros_like(pitch_acc)\n",
    "    yaw = np.zeros_like(gyro[:, 0])\n",
    "\n",
    "    for i in range(len(acc)):\n",
    "        roll[i] = alpha * (roll[i] + gyro[i, 0] * dt) + (1 - alpha) * roll_acc[i]\n",
    "        pitch[i] = alpha * (pitch[i] + gyro[i, 1] * dt) + (1 - alpha) * pitch_acc[i]\n",
    "        yaw[i] = gyro[i, 2]  # Yaw directly from gyroscope data\n",
    "\n",
    "    return np.rad2deg(roll), np.rad2deg(pitch), np.rad2deg(yaw)\n",
    "\n",
    "alpha = 0.98  # Adjust alpha as needed\n",
    "roll, pitch, yaw = complementary_filter(glasses, alpha)\n",
    "\n",
    "# Add Euler angles as new columns to the DataFrame\n",
    "glasses['orientation_x'] = roll\n",
    "glasses['orientation_y'] = pitch\n",
    "glasses['orientation_z'] = yaw"
   ]
  },
  {
   "cell_type": "code",
   "execution_count": null,
   "metadata": {},
   "outputs": [],
   "source": [
    "import pandas as pd\n",
    "import numpy as np\n",
    "\n",
    "def classify_motion_row(row):\n",
    "    # Extract relevant data from the row\n",
    "    accel_x = row['accel_x']\n",
    "    accel_y = row['accel_y']\n",
    "    accel_z = row['accel_z']\n",
    "    gyro_x = row['gyro_x']\n",
    "    gyro_y = row['gyro_y']\n",
    "    gyro_z = row['gyro_z']\n",
    "    orientation_x = row['orientation_x']\n",
    "    orientation_y = row['orientation_y']\n",
    "    orientation_z = row['orientation_z']\n",
    "    \n",
    "    # Classify motion based on accelerometer and gyroscope readings\n",
    "    if np.any((accel_x != 0) | (accel_y != 0) | (accel_z != 0)):\n",
    "        # Check if all gyroscope readings are zero\n",
    "        if not np.any((gyro_x != 0) | (gyro_y != 0) | (gyro_z != 0)):\n",
    "            # Check orientation for refining moving motion\n",
    "            if orientation_z > 283.615 or orientation_z < -283.24:\n",
    "                motion_type = \"Vertical Movement\"\n",
    "            elif orientation_x > 12.04 or orientation_x < -11.25:\n",
    "                motion_type = \"Horizontal Movement\"\n",
    "            else:\n",
    "                motion_type = \"Moving\"\n",
    "        else:\n",
    "            # If gyroscope readings are not all zero, classify as \"Turning/Tilting\"\n",
    "            motion_type = \"Turning/Tilting\"\n",
    "    elif np.any((gyro_x != 0) | (gyro_y != 0) | (gyro_z != 0)):\n",
    "        # If accelerometer readings are all zero, check gyroscope readings\n",
    "        motion_type = \"Turning/Tilting\"\n",
    "    else:\n",
    "        # If both accelerometer and gyroscope readings are zero, classify as \"Stationary\"\n",
    "        motion_type = \"Stationary\"\n",
    "\n",
    "    return pd.Series([motion_type])\n",
    "\n",
    "# Apply the function row-wise to the dataframe\n",
    "glasses['motion_type'] = glasses.apply(classify_motion_row, axis=1)"
   ]
  }
 ],
 "metadata": {
  "kernelspec": {
   "display_name": "Python 3",
   "language": "python",
   "name": "python3"
  },
  "language_info": {
   "codemirror_mode": {
    "name": "ipython",
    "version": 3
   },
   "file_extension": ".py",
   "mimetype": "text/x-python",
   "name": "python",
   "nbconvert_exporter": "python",
   "pygments_lexer": "ipython3",
   "version": "3.11.4"
  }
 },
 "nbformat": 4,
 "nbformat_minor": 2
}
